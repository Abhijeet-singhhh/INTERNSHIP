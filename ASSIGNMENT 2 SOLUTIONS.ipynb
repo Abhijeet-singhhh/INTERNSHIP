{
 "cells": [
  {
   "cell_type": "code",
   "execution_count": 1,
   "id": "5c863908",
   "metadata": {},
   "outputs": [
    {
     "name": "stdout",
     "output_type": "stream",
     "text": [
      "Python:Exercises:PHP:exercises:\n"
     ]
    }
   ],
   "source": [
    "#sol1)\n",
    "\n",
    "import re\n",
    "\n",
    "def replace_spaces_commas_dots(text):\n",
    "    return re.sub(r'[\\s,.]+', ':', text)\n",
    "\n",
    "sample_text = 'Python Exercises, PHP exercises.'\n",
    "output = replace_spaces_commas_dots(sample_text)\n",
    "print(output)"
   ]
  },
  {
   "cell_type": "code",
   "execution_count": 4,
   "id": "ff77a23d",
   "metadata": {},
   "outputs": [
    {
     "name": "stdout",
     "output_type": "stream",
     "text": [
      "            SUMMARY\n",
      "0       hello world\n",
      "1        XXXXX test\n",
      "2  123four five six\n"
     ]
    }
   ],
   "source": [
    "# sol2)\n",
    "\n",
    "import pandas as pd\n",
    "import re\n",
    "\n",
    "data = {'SUMMARY' : ['hello, world!', 'XXXXX test', '123four, five:; six...']}\n",
    "\n",
    "df = pd.DataFrame(data)\n",
    "\n",
    "df['SUMMARY'] = df['SUMMARY'].apply(lambda x: re.sub(r'[^\\w\\s]', '', x))\n",
    "\n",
    "print(df)"
   ]
  },
  {
   "cell_type": "code",
   "execution_count": 6,
   "id": "1e483c86",
   "metadata": {},
   "outputs": [
    {
     "name": "stdout",
     "output_type": "stream",
     "text": [
      "['This', 'sample', 'text', 'with', 'some', 'long', 'words', 'like', 'programming', 'mathematics', 'engineering']\n"
     ]
    }
   ],
   "source": [
    "#sol3)\n",
    "\n",
    "import re\n",
    "\n",
    "def find_long_words(text):\n",
    "    pattern = re.compile(r'\\b\\w{4,}\\b')\n",
    "    words = pattern.findall(text)\n",
    "    return words\n",
    "\n",
    "text = \"This is a sample text with some long words like programming, mathematics, and engineering.\"\n",
    "print(find_long_words(text))\n",
    "\n"
   ]
  },
  {
   "cell_type": "code",
   "execution_count": 7,
   "id": "90ff5961",
   "metadata": {},
   "outputs": [
    {
     "name": "stdout",
     "output_type": "stream",
     "text": [
      "['This', 'text', 'with', 'some', 'three', 'words', 'like', 'cat', 'dog', 'and', 'bat', 'and', 'some', 'four', 'words', 'like', 'test', 'and', 'five', 'words', 'like']\n"
     ]
    }
   ],
   "source": [
    "#sol4)\n",
    "\n",
    "import re\n",
    "\n",
    "def find_words(text):\n",
    "    pattern = re.compile(r'\\b\\w{3,5}\\b')\n",
    "    words = pattern.findall(text)\n",
    "    return words\n",
    "\n",
    "text = \"This is a sample text with some three-letter words like cat, dog, and bat, and some four-letter words like test, and five-letter words like program.\"\n",
    "print(find_words(text))"
   ]
  },
  {
   "cell_type": "code",
   "execution_count": 9,
   "id": "d9a0a3d2",
   "metadata": {
    "scrolled": true
   },
   "outputs": [
    {
     "name": "stdout",
     "output_type": "stream",
     "text": [
      "['example ', 'hr@fliprobo ', 'github ', 'Hello ', 'Data ']\n"
     ]
    }
   ],
   "source": [
    "#sol5)\n",
    "\n",
    "import re\n",
    "\n",
    "def remove_parentheses_and_dots(strings):\n",
    "    pattern = re.compile(r'\\(.*?\\)|\\.$')\n",
    "    cleaned_strings = [pattern.sub('', s) for s in strings]\n",
    "    return cleaned_strings\n",
    "\n",
    "strings = [\"example (.com)\", \"hr@fliprobo (.com)\", \"github (.com)\", \"Hello (Data Science World)\", \"Data (Scientist)\"]\n",
    "print(remove_parentheses_and_dots(strings))"
   ]
  },
  {
   "cell_type": "code",
   "execution_count": 34,
   "id": "f0e288ca",
   "metadata": {},
   "outputs": [
    {
     "name": "stdout",
     "output_type": "stream",
     "text": [
      "[\"example (.com)\", \"hr@fliprobo (.com)\", \"github (.com)\", \"Hello (Data Science World)\", \"Data (Scientist)\"]\n"
     ]
    }
   ],
   "source": [
    "#sol6)\n",
    "\n",
    "import re\n",
    "\n",
    "def remove_parentheses(text):\n",
    "   \n",
    "    parentheses_pattern = re.compile(r'\\(.*?\\)')\n",
    "    text = parentheses_pattern.sub('', text)\n",
    "    return text\n",
    "\n",
    "def remove_parentheses_from_file(file_path):\n",
    "   \n",
    "    with open(file_path, 'r') as f:\n",
    "        text = f.read()\n",
    "    text = remove_parentheses(text)\n",
    "    with open(file_path, 'w') as f:\n",
    "        f.write(text)\n",
    "\n",
    "with open('sample1.txt', 'w') as f:\n",
    "    f.write('[\"example (.com)\", \"hr@fliprobo (.com)\", \"github (.com)\", \"Hello (Data Science World)\", \"Data (Scientist)\"]')\n",
    "\n",
    "remove_parentheses_from_file('sample.txt')\n",
    "\n",
    "with open('sample1.txt', 'r') as f:\n",
    "    text = f.read()\n",
    "print(text)"
   ]
  },
  {
   "cell_type": "code",
   "execution_count": 9,
   "id": "d5675d84",
   "metadata": {},
   "outputs": [
    {
     "name": "stdout",
     "output_type": "stream",
     "text": [
      "['Importance', 'Of', 'Regular', 'Expressions', 'In', 'Python']\n"
     ]
    }
   ],
   "source": [
    "#sol7)\n",
    "\n",
    "import re\n",
    "\n",
    "text = \"ImportanceOfRegularExpressionsInPython\"\n",
    "pattern = r'(?<=[A-Z])(?=[A-Z][a-z])|(?<=[^A-Z])(?=[A-Z])|(?<=[a-z])(?=[A-Z][a-z])'\n",
    "result = re.split(pattern, text)\n",
    "\n",
    "print(result)\n"
   ]
  },
  {
   "cell_type": "code",
   "execution_count": 11,
   "id": "6047aa51",
   "metadata": {},
   "outputs": [
    {
     "name": "stdout",
     "output_type": "stream",
     "text": [
      "RegularExpression 1 IsAn 2 ImportantTopic 3 InPython\n"
     ]
    }
   ],
   "source": [
    "#sol8)\n",
    "\n",
    "import re\n",
    "\n",
    "def insert_spaces(text):\n",
    "    pattern = r'(?<=\\D)(?=[0-9])|(?<=[0-9])(?=\\D)'\n",
    "    return re.sub(pattern, ' ', text)\n",
    "\n",
    "sample_text = \"RegularExpression1IsAn2ImportantTopic3InPython\"\n",
    "result = insert_spaces(sample_text)\n",
    "print(result)"
   ]
  },
  {
   "cell_type": "code",
   "execution_count": 32,
   "id": "a4f756b4",
   "metadata": {},
   "outputs": [
    {
     "name": "stdout",
     "output_type": "stream",
     "text": [
      "\n"
     ]
    }
   ],
   "source": [
    "#sol9)\n",
    "\n",
    "import re\n",
    "\n",
    "def insert_spaces(text: str) -> str:\n",
    "   \n",
    "    words = re.findall(r'\\b[A-Z0-9][a-z0-9]*\\b', text)\n",
    "    return ' '.join(words)\n",
    "\n",
    "text = \"RegularExpression1IsAn2ImportantTopic3InPython\"\n",
    "print(insert_spaces(text))  "
   ]
  },
  {
   "cell_type": "code",
   "execution_count": 8,
   "id": "17701a7f",
   "metadata": {},
   "outputs": [
    {
     "name": "stdout",
     "output_type": "stream",
     "text": [
      "       Country          Region  Happiness Rank  Happiness Score  \\\n",
      "0  Switzerland  Western Europe               1            7.587   \n",
      "1      Iceland  Western Europe               2            7.561   \n",
      "2      Denmark  Western Europe               3            7.527   \n",
      "3       Norway  Western Europe               4            7.522   \n",
      "4       Canada   North America               5            7.427   \n",
      "\n",
      "   Standard Error  Economy (GDP per Capita)   Family  \\\n",
      "0         0.03411                   1.39651  1.34951   \n",
      "1         0.04884                   1.30232  1.40223   \n",
      "2         0.03328                   1.32548  1.36058   \n",
      "3         0.03880                   1.45900  1.33095   \n",
      "4         0.03553                   1.32629  1.32261   \n",
      "\n",
      "   Health (Life Expectancy)  Freedom  Trust (Government Corruption)  \\\n",
      "0                   0.94143  0.66557                        0.41978   \n",
      "1                   0.94784  0.62877                        0.14145   \n",
      "2                   0.87464  0.64938                        0.48357   \n",
      "3                   0.88521  0.66973                        0.36503   \n",
      "4                   0.90563  0.63297                        0.32957   \n",
      "\n",
      "   Generosity  Dystopia Residual first_five_letters  \n",
      "0     0.29678            2.51738             Switze  \n",
      "1     0.43630            2.70201             Icelan  \n",
      "2     0.34139            2.49204             Denmar  \n",
      "3     0.34699            2.46531             Norway  \n",
      "4     0.45811            2.45176             Canada  \n"
     ]
    }
   ],
   "source": [
    " # sol 10) \n",
    "import pandas as pd\n",
    "url = \"https://raw.githubusercontent.com/dsrscientist/DSData/master/happiness_score_dataset.csv\"\n",
    "df = pd.read_csv(url)\n",
    "df['first_five_letters'] = df['Country'].str[:6]\n",
    "print(df.head())"
   ]
  },
  {
   "cell_type": "code",
   "execution_count": 33,
   "id": "51d0f290",
   "metadata": {},
   "outputs": [
    {
     "name": "stdout",
     "output_type": "stream",
     "text": [
      "Hello_World123 matches the pattern.\n"
     ]
    }
   ],
   "source": [
    "#sol11) \n",
    "\n",
    "import re\n",
    "\n",
    "pattern = r'^[a-zA-Z0-9_]*$'\n",
    "input_string = \"Hello_World123\"\n",
    "if re.match(pattern, input_string):\n",
    "    print(f\"{input_string} matches the pattern.\")\n",
    "else:\n",
    "    print(f\"{input_string} does not match the pattern.\")"
   ]
  },
  {
   "cell_type": "code",
   "execution_count": 10,
   "id": "97a8edc1",
   "metadata": {},
   "outputs": [
    {
     "name": "stdout",
     "output_type": "stream",
     "text": [
      "1234567890 does not match the pattern.\n"
     ]
    }
   ],
   "source": [
    "# sol12)\n",
    "\n",
    "import re\n",
    "\n",
    "pattern = r'^1\\d{10}$'\n",
    "\n",
    "input_string = \"1234567890\"\n",
    "\n",
    "if re.match(pattern, input_string):\n",
    "    print(f\"{input_string} matches the pattern.\")\n",
    "else:\n",
    "    print(f\"{input_string} does not match the pattern.\")"
   ]
  },
  {
   "cell_type": "code",
   "execution_count": 11,
   "id": "2eac95e0",
   "metadata": {},
   "outputs": [
    {
     "name": "stdout",
     "output_type": "stream",
     "text": [
      "192.168.001.002\n"
     ]
    }
   ],
   "source": [
    "#sol13)\n",
    "\n",
    "import re\n",
    "\n",
    "ip_address = \"192.168.001.002\"\n",
    "\n",
    "ip_address = re.sub(r'(\\d+)(\\.0+)', r'\\1\\2', ip_address)\n",
    "\n",
    "print(ip_address)"
   ]
  },
  {
   "cell_type": "code",
   "execution_count": 28,
   "id": "b0d15536",
   "metadata": {
    "scrolled": true
   },
   "outputs": [
    {
     "name": "stdout",
     "output_type": "stream",
     "text": [
      "August 15th 1947\n"
     ]
    }
   ],
   "source": [
    "#sol14)\n",
    "import re\n",
    "\n",
    "with open(\"sample.txt\", \"r\") as file:\n",
    "    text = file.read()\n",
    "\n",
    "pattern = r'\\b(January|February|March|April|May|June|July|August|September|October|November|December)\\s+\\d{1,2}(st|nd|rd|th)\\s+\\d{4}\\b'\n",
    "\n",
    "match = re.search(pattern, text)\n",
    "\n",
    "if match:\n",
    "    date_string = match.group()\n",
    "    print(date_string)\n",
    "else:\n",
    "    print(\"Error: No match found.\")\n"
   ]
  },
  {
   "cell_type": "code",
   "execution_count": 29,
   "id": "83561c7e",
   "metadata": {},
   "outputs": [
    {
     "name": "stdout",
     "output_type": "stream",
     "text": [
      "fox is in the sample text.\n",
      "dog is in the sample text.\n",
      "horse is not in the sample text.\n"
     ]
    }
   ],
   "source": [
    "#sol15)\n",
    "\n",
    "sample_text = \"The quick brown fox jumps over the lazy dog.\"\n",
    "searched_words = [\"fox\", \"dog\", \"horse\"]\n",
    "\n",
    "for word in searched_words:\n",
    "    if word in sample_text:\n",
    "        print(f\"{word} is in the sample text.\")\n",
    "    else:\n",
    "        print(f\"{word} is not in the sample text.\")"
   ]
  },
  {
   "cell_type": "code",
   "execution_count": 30,
   "id": "0043aec6",
   "metadata": {},
   "outputs": [
    {
     "name": "stdout",
     "output_type": "stream",
     "text": [
      "fox is located at position 16 in the sample text.\n"
     ]
    }
   ],
   "source": [
    "#sol16)\n",
    "\n",
    "sample_text = \"The quick brown fox jumps over the lazy dog.\"\n",
    "searched_word = \"fox\"\n",
    "\n",
    "location = sample_text.find(searched_word)\n",
    "\n",
    "if location != -1:\n",
    "    print(f\"{searched_word} is located at position {location} in the sample text.\")\n",
    "else:\n",
    "    print(f\"{searched_word} is not found in the sample text.\")"
   ]
  },
  {
   "cell_type": "code",
   "execution_count": 31,
   "id": "7c725db4",
   "metadata": {},
   "outputs": [
    {
     "name": "stdout",
     "output_type": "stream",
     "text": [
      "Substring 1: Python exercises\n",
      "Substring 2: , PHP exercises\n",
      "Substring 3: , C# exercises\n"
     ]
    }
   ],
   "source": [
    "#sol17)\n",
    "\n",
    "sample_text = \"Python exercises, PHP exercises, C# exercises\"\n",
    "pattern = \"exercises\"\n",
    "\n",
    "substrings = sample_text.split(pattern)\n",
    "\n",
    "for i, substring in enumerate(substrings):\n",
    "    \n",
    "    if substring:\n",
    "        print(f\"Substring {i+1}: {substring}{pattern}\")"
   ]
  },
  {
   "cell_type": "code",
   "execution_count": 33,
   "id": "34b1d38f",
   "metadata": {},
   "outputs": [
    {
     "name": "stdout",
     "output_type": "stream",
     "text": [
      "The pattern 'exercises' occurs 3 time(s) in the sample text.\n",
      "Positions:  1, 2, 3\n"
     ]
    }
   ],
   "source": [
    "#sol18)\n",
    "\n",
    "sample_text = \"Python exercises, PHP exercises, C# exercises\"\n",
    "pattern = \"exercises\"\n",
    "\n",
    "occurrences = []\n",
    "positions = []\n",
    "position = 0\n",
    "while True:\n",
    "    position = sample_text.find(pattern, position)\n",
    "    if position == -1:\n",
    "        break\n",
    "    occurrences.append(position)\n",
    "    positions.append(len(occurrences))\n",
    "    position += len(pattern)\n",
    "\n",
    "if occurrences:\n",
    "    print(f\"The pattern '{pattern}' occurs {len(occurrences)} time(s) in the sample text.\")\n",
    "    print(\"Positions: \", \", \".join(map(str, positions)))\n",
    "else:\n",
    "    print(f\"The pattern '{pattern}' is not found in the sample text.\")"
   ]
  },
  {
   "cell_type": "code",
   "execution_count": 23,
   "id": "4382674a",
   "metadata": {},
   "outputs": [
    {
     "name": "stdout",
     "output_type": "stream",
     "text": [
      "09-01-2001\n"
     ]
    }
   ],
   "source": [
    "#sol19)\n",
    "\n",
    "date_str =  \"2001-01-09\"\n",
    "\n",
    "year, month, day = date_str.split(\"-\")\n",
    "\n",
    "new_date_str = \"-\".join([day, month, year])\n",
    "\n",
    "print(new_date_str)"
   ]
  },
  {
   "cell_type": "code",
   "execution_count": 35,
   "id": "e69dcdb5",
   "metadata": {},
   "outputs": [
    {
     "name": "stdout",
     "output_type": "stream",
     "text": [
      "['01.12', '0132.12', '2.31', '145.8', '3.01', '27.25', '0.25']\n"
     ]
    }
   ],
   "source": [
    "#sol 20)\n",
    "\n",
    "import re\n",
    "\n",
    "sample_text = \"01.12 0132.123 2.31875 145.8 3.01 27.25 0.25\"\n",
    "\n",
    "pattern = r\"\\d+\\.\\d{1,2}\"\n",
    "\n",
    "regex = re.compile(pattern)\n",
    "\n",
    "matches = regex.findall(sample_text)\n",
    "\n",
    "print(matches)"
   ]
  },
  {
   "cell_type": "code",
   "execution_count": 43,
   "id": "8cdfd40a",
   "metadata": {},
   "outputs": [
    {
     "name": "stdout",
     "output_type": "stream",
     "text": [
      "Number 1 found at position 7\n",
      "Number 2 found at position 8\n",
      "Number 3 found at position 9\n",
      "Number 4 found at position 13\n",
      "Number 5 found at position 14\n"
     ]
    }
   ],
   "source": [
    "#sol21)\n",
    "\n",
    "def find_numbers_and_positions(input_string):\n",
    "   \n",
    "    for i, char in enumerate(input_string):\n",
    "        \n",
    "        if char.isdigit():\n",
    "            \n",
    "    print(f\"Number {char} found at position {i}\")\n",
    "\n",
    "input_string = \"HARREET123BOO45\"\n",
    "find_numbers_and_positions(input_string)"
   ]
  },
  {
   "cell_type": "code",
   "execution_count": 29,
   "id": "5f877806",
   "metadata": {},
   "outputs": [
    {
     "name": "stdout",
     "output_type": "stream",
     "text": [
      "950\n"
     ]
    }
   ],
   "source": [
    "#SOL22)\n",
    "\n",
    "import re\n",
    "\n",
    "def extract_max_numeric_value(input_string):\n",
    "   \n",
    "    pattern = r'\\b\\d+\\b'\n",
    "    \n",
    "    numeric_values = re.findall(pattern, input_string)\n",
    "\n",
    "    numeric_values = [int(numeric_value) for numeric_value in numeric_values]\n",
    "    \n",
    "    return max(numeric_values)\n",
    "\n",
    "\n",
    "input_string = \"My marks in each semester are: 947, 896, 926, 524, 734, 950, 642\"\n",
    "print(extract_max_numeric_value(input_string))"
   ]
  },
  {
   "cell_type": "code",
   "execution_count": 18,
   "id": "d9abc310",
   "metadata": {},
   "outputs": [
    {
     "name": "stdout",
     "output_type": "stream",
     "text": [
      "Regular Expression Is An Important Topic In Python\n"
     ]
    }
   ],
   "source": [
    "#SOL23)\n",
    "\n",
    "def insert_spaces_between_caps(input_string):\n",
    "\n",
    "    pattern = r'(?<=[A-Z])(?=[A-Z][a-z])|(?<=[^A-Z])(?=[A-Z])'\n",
    "\n",
    "    words = re.split(pattern, input_string)\n",
    "\n",
    "    output_string = ' '.join(words)\n",
    "    return output_string\n",
    "\n",
    "input_string = \"RegularExpressionIsAnImportantTopicInPython\"\n",
    "print(insert_spaces_between_caps(input_string)) "
   ]
  },
  {
   "cell_type": "code",
   "execution_count": 21,
   "id": "19b775f4",
   "metadata": {},
   "outputs": [
    {
     "name": "stdout",
     "output_type": "stream",
     "text": [
      "['This', 'Is', 'An', 'Example', 'String', 'With', 'Sequences', 'Of', 'One', 'Uppercase', 'Letter', 'Followed', 'By', 'Lowercase', 'Letters']\n"
     ]
    }
   ],
   "source": [
    "#SOL24)\n",
    "\n",
    "import re\n",
    "\n",
    "input_string = \"ThisIsAnExampleStringWithSequencesOfOneUppercaseLetterFollowedByLowercaseLetters\"\n",
    "pattern = r'[A-Z][a-z]*'\n",
    "\n",
    "matches = re.findall(pattern, input_string)\n",
    "print(matches)"
   ]
  },
  {
   "cell_type": "code",
   "execution_count": 48,
   "id": "7e577953",
   "metadata": {},
   "outputs": [
    {
     "name": "stdout",
     "output_type": "stream",
     "text": [
      "Hello world\n"
     ]
    }
   ],
   "source": [
    "#SOL25)\n",
    "\n",
    "import re\n",
    "\n",
    "def remove_continuous_duplicate_words(input_string):\n",
    "\n",
    "    pattern = r'\\b(\\w+)\\s+\\1\\b'\n",
    "\n",
    "\n",
    "    output_string = re.sub(pattern, r'\\1', input_string, flags=re.IGNORECASE)\n",
    "\n",
    "    \n",
    "    return output_string\n",
    "\n",
    "input_string = \"Hello hello world world\"\n",
    "print(remove_continuous_duplicate_words(input_string))  # Output: Hello world"
   ]
  },
  {
   "cell_type": "code",
   "execution_count": 50,
   "id": "8a7a8c6d",
   "metadata": {},
   "outputs": [
    {
     "name": "stdout",
     "output_type": "stream",
     "text": [
      "True\n",
      "False\n"
     ]
    }
   ],
   "source": [
    "#SOL26)\n",
    "\n",
    "import re\n",
    "\n",
    "def ends_with_alphanumeric(input_string):\n",
    "   \n",
    "    pattern = r'[a-zA-Z0-9]$'\n",
    "\n",
    "    if re.search(pattern, input_string):\n",
    "        return True\n",
    "    else:\n",
    "        return False\n",
    "\n",
    "input_string1 = \"Hellobuby123\"\n",
    "input_string2 = \"Hellobuby123!\"\n",
    "\n",
    "print(ends_with_alphanumeric(input_string1)) \n",
    "print(ends_with_alphanumeric(input_string2))"
   ]
  },
  {
   "cell_type": "code",
   "execution_count": 28,
   "id": "ddab8753",
   "metadata": {},
   "outputs": [
    {
     "name": "stdout",
     "output_type": "stream",
     "text": [
      "['#Doltiwal', '#xyzabc', '#Demonetization']\n"
     ]
    }
   ],
   "source": [
    "#sol27)\n",
    "\n",
    "import re\n",
    "\n",
    "def extract_hashtags(input_string):\n",
    "\n",
    "    pattern = r'#\\w+'\n",
    "\n",
    "    hashtags = re.findall(pattern, input_string)\n",
    "\n",
    "    return hashtags\n",
    "\n",
    "\n",
    "input_string = \"RT @kapil_kausik: #Doltiwal I mean #xyzabc is \\\"hurt\\\" by #Demonetization as the same has rendered USELESS <ed><U+00A0><U+00BD><ed><U+00B1><U+0089> \\\"acquired funds\\\" No wo\"\n",
    "print(extract_hashtags(input_string))"
   ]
  },
  {
   "cell_type": "code",
   "execution_count": 27,
   "id": "e85043fc",
   "metadata": {},
   "outputs": [
    {
     "name": "stdout",
     "output_type": "stream",
     "text": [
      "@Jags123456 Bharat band on 28??<ed><ed>Those who  are protesting #demonetization  are all different party leaders\n"
     ]
    }
   ],
   "source": [
    "#sol28)\n",
    "\n",
    "import re\n",
    "\n",
    "def remove_u_symbols(input_string):\n",
    "   \n",
    "    pattern = r'<U\\+[0-9A-Fa-f]{4}>'\n",
    "    \n",
    "    output_string = re.sub(pattern, '', input_string)\n",
    "\n",
    "    return output_string\n",
    "\n",
    "input_string = \"@Jags123456 Bharat band on 28??<ed><U+00A0><U+00BD><ed><U+00B8><U+0082>Those who  are protesting #demonetization  are all different party leaders\"\n",
    "print(remove_u_symbols(input_string))"
   ]
  },
  {
   "cell_type": "code",
   "execution_count": 26,
   "id": "66a58673",
   "metadata": {},
   "outputs": [
    {
     "name": "stdout",
     "output_type": "stream",
     "text": [
      "Extracted dates:\n",
      "12-09-1992\n",
      "15-12-1999\n"
     ]
    }
   ],
   "source": [
    "#sol29)\n",
    "\n",
    "\n",
    "import re\n",
    "\n",
    "with open('sol29.txt', 'r') as file:\n",
    "    text = file.read()\n",
    "\n",
    "pattern = re.compile(r'(\\d{2})-(\\d{2})-(\\d{4})')\n",
    "\n",
    "matches = pattern.finditer(text)\n",
    "\n",
    "print(\"Extracted dates:\")\n",
    "for match in matches:\n",
    "    day, month, year = match.groups()\n",
    "    print(f\"{day}-{month}-{year}\")"
   ]
  },
  {
   "cell_type": "code",
   "execution_count": 25,
   "id": "f426e5bf",
   "metadata": {},
   "outputs": [
    {
     "name": "stdout",
     "output_type": "stream",
     "text": [
      "following example creates  ArrayLt  a capacity   elements. 4 elements   added   ArrayLt d  ArrayLt  trimmed accordingly.\n"
     ]
    }
   ],
   "source": [
    "#sol30)\n",
    "\n",
    "import re\n",
    "\n",
    "def remove_words_of_length_2_to_4(text):\n",
    "   \n",
    "    word_pattern = re.compile(r'\\b\\w{2,4}\\b')\n",
    "    words = word_pattern.findall(text)\n",
    "    for word in words:\n",
    "        text = text.replace(word, '').strip()\n",
    "    return text\n",
    "\n",
    "text = \"The following example creates an ArrayList with a capacity of 50 elements. 4 elements are then added to the ArrayList and the ArrayList is trimmed accordingly.\"\n",
    "print(remove_words_of_length_2_to_4(text))"
   ]
  },
  {
   "cell_type": "code",
   "execution_count": null,
   "id": "642e96c3",
   "metadata": {},
   "outputs": [],
   "source": []
  }
 ],
 "metadata": {
  "kernelspec": {
   "display_name": "Python 3 (ipykernel)",
   "language": "python",
   "name": "python3"
  },
  "language_info": {
   "codemirror_mode": {
    "name": "ipython",
    "version": 3
   },
   "file_extension": ".py",
   "mimetype": "text/x-python",
   "name": "python",
   "nbconvert_exporter": "python",
   "pygments_lexer": "ipython3",
   "version": "3.11.4"
  }
 },
 "nbformat": 4,
 "nbformat_minor": 5
}
